{
  "nbformat": 4,
  "nbformat_minor": 0,
  "metadata": {
    "colab": {
      "name": "Primera Red Neuronal.ipynb",
      "provenance": [],
      "authorship_tag": "ABX9TyMunE4DEGN4pqCKW7IbbGSq",
      "include_colab_link": true
    },
    "kernelspec": {
      "name": "python3",
      "display_name": "Python 3"
    }
  },
  "cells": [
    {
      "cell_type": "markdown",
      "metadata": {
        "id": "view-in-github",
        "colab_type": "text"
      },
      "source": [
        "<a href=\"https://colab.research.google.com/github/RobertoVargasJabre/AprendiendoML/blob/master/Primera_Red_Neuronal.ipynb\" target=\"_parent\"><img src=\"https://colab.research.google.com/assets/colab-badge.svg\" alt=\"Open In Colab\"/></a>"
      ]
    },
    {
      "cell_type": "code",
      "metadata": {
        "id": "4A9s_azHEpYI",
        "colab_type": "code",
        "colab": {}
      },
      "source": [
        "import numpy as np\n",
        "import scipy as sc\n",
        "import matplotlib.pyplot as plt\n",
        "\n",
        "from sklearn.datasets import make_circles"
      ],
      "execution_count": 0,
      "outputs": []
    },
    {
      "cell_type": "code",
      "metadata": {
        "id": "gIq54AtEE8U7",
        "colab_type": "code",
        "colab": {}
      },
      "source": [
        "#Crear DataSet\n",
        "\n",
        "n = 500 # numero de registros\n",
        "p = 2   # caracteristcas de nuestros datos\n",
        "\n",
        "X, Y = make_circles(n_samples=n, factor=0.5, noise=0.05)\n",
        "\n",
        "Y = Y[:, np.newaxis]\n",
        "\n",
        "plt.scatter(X[Y[:,0] == 0, 0], X[Y[:,0] == 0, 1], c = \"skyblue\")\n",
        "plt.scatter(X[Y[:,0] == 1, 0], X[Y[:,0] == 1, 1], c = \"salmon\")\n",
        "plt.axis(\"equal\")\n",
        "plt.show()"
      ],
      "execution_count": 0,
      "outputs": []
    },
    {
      "cell_type": "code",
      "metadata": {
        "id": "Y8HCEDDxI6Sf",
        "colab_type": "code",
        "colab": {}
      },
      "source": [
        "#Clase de la capa de la red\n",
        "class neural_layer():\n",
        "\n",
        "  def __init__(self, n_conn, n_neur, act_f):\n",
        "    \n",
        "    self.act_f = act_f\n",
        "    self.b = np.random.rand(1, n_neur) * 2 - 1\n",
        "    self.W = np.random.rand(n_conn, n_neur) * 2 - 1"
      ],
      "execution_count": 0,
      "outputs": []
    },
    {
      "cell_type": "code",
      "metadata": {
        "id": "qjXrYwt6Jvip",
        "colab_type": "code",
        "colab": {}
      },
      "source": [
        "#Funciones de activacion\n",
        "\n",
        "sigm = (lambda x: 1 / (1 + np.e ** (-x)),\n",
        "        lambda x: x * (1 - x))\n",
        "\n",
        "relu = lambda x: np.maximum(0, x)\n",
        "\n",
        "x1 = np.linspace(-5, 5, 100)\n",
        "plt.plot(x1, sigm[1](x1))"
      ],
      "execution_count": 0,
      "outputs": []
    },
    {
      "cell_type": "code",
      "metadata": {
        "id": "sPHKjnFlLYC7",
        "colab_type": "code",
        "colab": {}
      },
      "source": [
        "l0 = neural_layer(p, 4, sigm)\n",
        "l1 = neural_layer(4, 8, sigm)\n",
        "# ....\n",
        "\n",
        "\n",
        "\n",
        "def create_nn(topology, act_f):\n",
        "\n",
        "  nn = []\n",
        "\n",
        "  for l, layer in enumerate(topology[:-1]):\n",
        "    nn.append(neural_layer(topology[l], topology[l+1], act_f))\n",
        "\n",
        "  return nn\n",
        "\n",
        "topology = [p, 4, 8, 16, 8, 4, 1]\n",
        "\n",
        "create_nn(topology, sigm)\n",
        "\n",
        "\n"
      ],
      "execution_count": 0,
      "outputs": []
    },
    {
      "cell_type": "code",
      "metadata": {
        "id": "Kn_86giJNKMD",
        "colab_type": "code",
        "colab": {}
      },
      "source": [
        "topology = [p, 4, 8, 1]\n",
        "\n",
        "neural_net = create_nn(topology, sigm)\n",
        "\n",
        "l2_cost = (lambda Yp, Yr: np.mean((Yp - Yr) ** 2), # error cuadratico medio\n",
        "           lambda Yp, Yr: (Yp - Yr)) # derivada\n",
        "\n",
        "def train(neural_net, X, Y, l2_cost, lr=0.5, train=True):\n",
        "\n",
        "  out = [(None, X)]\n",
        "\n",
        "  # Forward pass\n",
        "  for l, layer in enumerate(neural_net):\n",
        "\n",
        "    z = out[-1][1] @ neural_net[l].W + neural_net[l].b #suma ponderada de la primera capa\n",
        "    a = neural_net[l].act_f[0](z)\n",
        "\n",
        "    out.append((z, a))\n",
        "\n",
        "  print(l2_cost[0](out[-1][1], Y))\n",
        "\n",
        "  if train:\n",
        "\n",
        "    #Backward pass \n",
        "    deltas = []\n",
        "\n",
        "    for l in reversed(range(0, len(neural_net))):\n",
        "\n",
        "      z = out[l+1][0]\n",
        "      a = out[l+1][1]\n",
        "\n",
        "      print(a.shape)\n",
        "\n",
        "      if l == len(neural_net) - 1:\n",
        "        deltas.insert(0, l2_cost[1](a, Y) * neural_net[l].act_f[1](a)) #formula de delta 0\n",
        "      else:\n",
        "        deltas.insert(0, deltas[0] @ _W.T * neural_net[l].act_f[1](a))  # backpropagation if and else\n",
        "      \n",
        "      _W = neural_net[l].W\n",
        "\n",
        "      #Gradient descent\n",
        "      neural_net[l].b = neural_net[l].b - np.mean(deltas[0], axis=0, keepdims=True) * lr\n",
        "      neural_net[l].W = neural_net[l].W - out[l][1].T @ deltas[0] * lr\n",
        "\n",
        "  return out[-1][1]\n",
        "\n",
        "train(neural_net, X, Y, l2_cost, 0.5)\n",
        "print (\"\")\n",
        "\n"
      ],
      "execution_count": 0,
      "outputs": []
    },
    {
      "cell_type": "code",
      "metadata": {
        "id": "3k4ejmgWL-v7",
        "colab_type": "code",
        "outputId": "733d4455-c659-48f1-e0b3-671d7c8b175d",
        "colab": {
          "base_uri": "https://localhost:8080/",
          "height": 1000
        }
      },
      "source": [
        "import time\n",
        "from IPython.display import clear_output\n",
        "\n",
        "neural_n = create_nn(topology, sigm) # se crea una nueva red\n",
        "\n",
        "loss = [] # se guardaran diferentes costes mientres se entrena para graficar\n",
        "\n",
        "for i in range(2000): # cantidad de veces de entrenamiento\n",
        "\n",
        "  #Entrenando la red\n",
        "  pY = train(neural_n, X, Y, l2_cost, lr = 0.05)\n",
        "\n",
        "  if i% 25 == 0: #cada 25 iteraciones\n",
        "\n",
        "    loss.append(l2_cost[0](pY,Y))\n",
        "\n",
        "    res = 50    #resolucion\n",
        "\n",
        "    _x0 = np.linspace(-1.5, 1.5, res)\n",
        "    _x1 = np.linspace(-1.5, 1.5, res)\n",
        "\n",
        "    _Y = np.zeros((res, res))\n",
        "\n",
        "    for i0, x0 in enumerate(_x0):\n",
        "      for i1, x1 in enumerate(_x1):\n",
        "        _Y[i0, i1] = train(neural_n , np.array([[x0, x1]]), Y, l2_cost, train=False)[0][0] #train False ya que es una predicion\n",
        "\n",
        "    #Visualiza el entrenamiento\n",
        "    plt.pcolormesh(_x0, _x1, _Y, cmap=\"coolwarm\")\n",
        "    plt.axis(\"equal\")\n",
        "\n",
        "    plt.scatter(X[Y[:,0] == 0,0], X[Y[:,0] == 0,1], c = \"skyblue\")\n",
        "    plt.scatter(X[Y[:,0] == 1,0], X[Y[:,0] == 1,1], c = \"salmon\")\n",
        "\n",
        "\n",
        "    #Borra contenido para hacerlo animado\n",
        "    clear_output(wait=True)\n",
        "    plt.show()\n",
        "    plt.plot(range(len(loss)), loss)\n",
        "    plt.show()\n",
        "    time.sleep(0.5)"
      ],
      "execution_count": 0,
      "outputs": [
        {
          "output_type": "display_data",
          "data": {
            "image/png": "[encoded data removed]",
            "text/plain": [
              "<Figure size 432x288 with 1 Axes>"
            ]
          },
          "metadata": {
            "tags": [],
            "needs_background": "light"
          }
        },
        {
          "output_type": "display_data",
          "data": {
            "image/png": "[encoded data removed]",
            "text/plain": [
              "<Figure size 432x288 with 1 Axes>"
            ]
          },
          "metadata": {
            "tags": [],
            "needs_background": "light"
          }
        },
        {
          "output_type": "stream",
          "text": [
            "0.0004454588652714934\n",
            "(500, 1)\n",
            "(500, 8)\n",
            "(500, 4)\n",
            "0.00044498286073643635\n",
            "(500, 1)\n",
            "(500, 8)\n",
            "(500, 4)\n",
            "0.0004445078540848723\n",
            "(500, 1)\n",
            "(500, 8)\n",
            "(500, 4)\n",
            "0.00044403384216509226\n",
            "(500, 1)\n",
            "(500, 8)\n",
            "(500, 4)\n",
            "0.00044356082183873223\n",
            "(500, 1)\n",
            "(500, 8)\n",
            "(500, 4)\n",
            "0.000443088789980702\n",
            "(500, 1)\n",
            "(500, 8)\n",
            "(500, 4)\n",
            "0.00044261774347911586\n",
            "(500, 1)\n",
            "(500, 8)\n",
            "(500, 4)\n",
            "0.00044214767923521944\n",
            "(500, 1)\n",
            "(500, 8)\n",
            "(500, 4)\n",
            "0.00044167859416332627\n",
            "(500, 1)\n",
            "(500, 8)\n",
            "(500, 4)\n",
            "0.0004412104851907398\n",
            "(500, 1)\n",
            "(500, 8)\n",
            "(500, 4)\n",
            "0.00044074334925769314\n",
            "(500, 1)\n",
            "(500, 8)\n",
            "(500, 4)\n",
            "0.00044027718331727573\n",
            "(500, 1)\n",
            "(500, 8)\n",
            "(500, 4)\n",
            "0.00043981198433536904\n",
            "(500, 1)\n",
            "(500, 8)\n",
            "(500, 4)\n",
            "0.00043934774929057444\n",
            "(500, 1)\n",
            "(500, 8)\n",
            "(500, 4)\n",
            "0.00043888447517415253\n",
            "(500, 1)\n",
            "(500, 8)\n",
            "(500, 4)\n",
            "0.00043842215898994756\n",
            "(500, 1)\n",
            "(500, 8)\n",
            "(500, 4)\n",
            "0.000437960797754334\n",
            "(500, 1)\n",
            "(500, 8)\n",
            "(500, 4)\n",
            "0.0004375003884961381\n",
            "(500, 1)\n",
            "(500, 8)\n",
            "(500, 4)\n",
            "0.00043704092825658133\n",
            "(500, 1)\n",
            "(500, 8)\n",
            "(500, 4)\n",
            "0.0004365824140892094\n",
            "(500, 1)\n",
            "(500, 8)\n",
            "(500, 4)\n",
            "0.00043612484305983464\n",
            "(500, 1)\n",
            "(500, 8)\n",
            "(500, 4)\n",
            "0.00043566821224646585\n",
            "(500, 1)\n",
            "(500, 8)\n",
            "(500, 4)\n",
            "0.000435212518739247\n",
            "(500, 1)\n",
            "(500, 8)\n",
            "(500, 4)\n",
            "0.00043475775964039353\n",
            "(500, 1)\n",
            "(500, 8)\n",
            "(500, 4)\n"
          ],
          "name": "stdout"
        }
      ]
    }
  ]
}